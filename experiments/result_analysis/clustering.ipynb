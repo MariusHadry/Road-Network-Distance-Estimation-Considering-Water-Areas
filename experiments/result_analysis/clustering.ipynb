{
 "cells": [
  {
   "cell_type": "code",
   "id": "initial_id",
   "metadata": {},
   "source": [
    "import os\n",
    "\n",
    "import folium\n",
    "import io\n",
    "from PIL import Image"
   ],
   "outputs": [],
   "execution_count": null
  },
  {
   "metadata": {},
   "cell_type": "code",
   "source": [
    "haversine_geojson = {\"type\": \"FeatureCollection\", \"features\": [{\"type\": \"Feature\", \"geometry\": {\"type\": \"MultiPoint\", \"coordinates\": [[9.935166, 49.782209], [9.915131, 49.802186], [9.92315, 49.803686], [9.937854, 49.785021], [9.901889, 49.799747], [9.901062, 49.796648], [9.887858, 49.795212], [9.893282, 49.793748], [9.930663, 49.803149], [9.925019, 49.788929]]}, \"properties\": {\"marker-color\": \"#81B29A\", \"marker-size\": \"medium\", \"marker-symbol\": \"triangle\", \"centroid-lat\": 49.793929193359375, \"centroid-lon\": 9.919123728515626}}, {\"type\": \"Feature\", \"geometry\": {\"type\": \"MultiPoint\", \"coordinates\": [[9.974479, 49.739846], [9.944548, 49.759271], [9.942322, 49.754274]]}, \"properties\": {\"marker-color\": \"#000000\", \"marker-size\": \"medium\", \"marker-symbol\": \"circle\", \"centroid-lat\": 49.75191625, \"centroid-lon\": 9.95091775}}, {\"type\": \"Feature\", \"geometry\": {\"type\": \"MultiPoint\", \"coordinates\": [[9.945918, 49.771734], [9.970327, 49.786982], [9.963345, 49.782179], [9.959062, 49.790472], [9.953659, 49.768221], [9.946292, 49.782532], [9.965741, 49.759271]]}, \"properties\": {\"marker-color\": \"#F7A072\", \"marker-size\": \"medium\", \"marker-symbol\": \"square\", \"centroid-lat\": 49.76949865625, \"centroid-lon\": 9.958638109374998}}]}\n",
    "\n",
    "osrm_geojson = {\"type\": \"FeatureCollection\", \"features\": [{\"type\": \"Feature\", \"geometry\": {\"type\": \"MultiPoint\", \"coordinates\": [[9.915131, 49.802186], [9.92315, 49.803686], [9.901889, 49.799747], [9.901062, 49.796648], [9.887858, 49.795212], [9.893282, 49.793748], [9.930663, 49.803149], [9.925019, 49.788929]]}, \"properties\": {\"marker-color\": \"#000000\", \"marker-size\": \"medium\", \"marker-symbol\": \"circle\", \"centroid-lat\": 49.794108171874996, \"centroid-lon\": 9.9189383984375}}, {\"type\": \"Feature\", \"geometry\": {\"type\": \"MultiPoint\", \"coordinates\": [[9.944548, 49.759271], [9.942322, 49.754274], [9.965741, 49.759271]]}, \"properties\": {\"marker-color\": \"#81B29A\", \"marker-size\": \"medium\", \"marker-symbol\": \"triangle\", \"centroid-lat\": 49.75802175, \"centroid-lon\": 9.954588000000001}}, {\"type\": \"Feature\", \"geometry\": {\"type\": \"MultiPoint\", \"coordinates\": [[9.935166, 49.782209], [9.974479, 49.739846], [9.945918, 49.771734], [9.937854, 49.785021], [9.970327, 49.786982], [9.963345, 49.782179], [9.959062, 49.790472], [9.953659, 49.768221], [9.946292, 49.782532]]}, \"properties\": {\"marker-color\": \"#F7A072\", \"marker-size\": \"medium\", \"marker-symbol\": \"square\", \"centroid-lat\": 49.779850277343755, \"centroid-lon\": 9.95147878515625}}]}\n",
    "\n",
    "wg_circuity_geojson = {\"type\": \"FeatureCollection\", \"features\": [{\"type\": \"Feature\", \"geometry\": {\"type\": \"MultiPoint\", \"coordinates\": [[9.915131, 49.802186], [9.92315, 49.803686], [9.901889, 49.799747], [9.901062, 49.796648], [9.887858, 49.795212], [9.893282, 49.793748], [9.930663, 49.803149], [9.925019, 49.788929]]}, \"properties\": {\"marker-color\": \"#F7A072\", \"marker-size\": \"medium\", \"marker-symbol\": \"square\", \"centroid-lat\": 49.794108171874996, \"centroid-lon\": 9.9189383984375}}, {\"type\": \"Feature\", \"geometry\": {\"type\": \"MultiPoint\", \"coordinates\": [[9.974479, 49.739846], [9.944548, 49.759271], [9.942322, 49.754274], [9.965741, 49.759271]]}, \"properties\": {\"marker-color\": \"#81B29A\", \"marker-size\": \"medium\", \"marker-symbol\": \"triangle\", \"centroid-lat\": 49.755593625, \"centroid-lon\": 9.958329375}}, {\"type\": \"Feature\", \"geometry\": {\"type\": \"MultiPoint\", \"coordinates\": [[9.935166, 49.782209], [9.945918, 49.771734], [9.937854, 49.785021], [9.970327, 49.786982], [9.963345, 49.782179], [9.959062, 49.790472], [9.953659, 49.768221], [9.946292, 49.782532]]}, \"properties\": {\"marker-color\": \"#000000\", \"marker-size\": \"medium\", \"marker-symbol\": \"circle\", \"centroid-lat\": 49.7800157578125, \"centroid-lon\": 9.95132521875}}]}\n",
    "\n",
    "ohg_1024_geojson = {\"type\": \"FeatureCollection\", \"features\": [{\"type\": \"Feature\", \"geometry\": {\"type\": \"MultiPoint\", \"coordinates\": [[9.915131, 49.802186], [9.92315, 49.803686], [9.901889, 49.799747], [9.901062, 49.796648], [9.887858, 49.795212], [9.893282, 49.793748], [9.930663, 49.803149], [9.925019, 49.788929]]}, \"properties\": {\"marker-color\": \"#F7A072\", \"marker-size\": \"medium\", \"marker-symbol\": \"square\", \"centroid-lat\": 49.794108171874996, \"centroid-lon\": 9.9189383984375}}, {\"type\": \"Feature\", \"geometry\": {\"type\": \"MultiPoint\", \"coordinates\": [[9.944548, 49.759271], [9.942322, 49.754274]]}, \"properties\": {\"marker-color\": \"#81B29A\", \"marker-size\": \"medium\", \"marker-symbol\": \"triangle\", \"centroid-lat\": 49.7567725, \"centroid-lon\": 9.943435000000001}}, {\"type\": \"Feature\", \"geometry\": {\"type\": \"MultiPoint\", \"coordinates\": [[9.935166, 49.782209], [9.974479, 49.739846], [9.945918, 49.771734], [9.937854, 49.785021], [9.970327, 49.786982], [9.963345, 49.782179], [9.959062, 49.790472], [9.953659, 49.768221], [9.946292, 49.782532], [9.965741, 49.759271]]}, \"properties\": {\"marker-color\": \"#000000\", \"marker-size\": \"medium\", \"marker-symbol\": \"circle\", \"centroid-lat\": 49.76956063867188, \"centroid-lon\": 9.958609892578124}}]}"
   ],
   "id": "14706efe6288098c",
   "outputs": [],
   "execution_count": null
  },
  {
   "cell_type": "code",
   "id": "442a33a3bd8c72a9",
   "metadata": {},
   "source": [
    "# Build the default map for a specific location\n",
    "# map = folium.Map(location=[49.77912,9.93583], zoom_start=13)\n",
    "\n",
    "def create_map(geojson):\n",
    "    map = folium.Map(location=[49.77206,9.93134], zoom_start=13, png_enabled=True)\n",
    "\n",
    "    color_list = [\"red\", \"blue\", \"orange\"]\n",
    "    icon_list = [\"asterisk\", \"unchecked\", \"chevron-down\"]\n",
    "\n",
    "    for i, feature in enumerate(geojson['features']):\n",
    "        _geojson = {\n",
    "            \"type\": \"FeatureCollection\",\n",
    "            \"features\": [feature]\n",
    "        }\n",
    "\n",
    "        if 'centroid-lat' not in feature['properties']:\n",
    "            i_correction += 1\n",
    "            continue\n",
    "\n",
    "        # add cluster elements\n",
    "        for f in feature['geometry']['coordinates']:\n",
    "            folium.Marker(\n",
    "                (f[1], f[0]),\n",
    "                # icon names: https://getbootstrap.com/docs/3.3/components/\n",
    "                icon=folium.Icon(color=color_list[i], icon=icon_list[i]),\n",
    "            ).add_to(map)\n",
    "\n",
    "        # add cluster centroid\n",
    "        folium.Marker(\n",
    "            (feature['properties']['centroid-lat'], feature['properties']['centroid-lon']),\n",
    "            icon=folium.Icon(color='black', icon=\"star\"),\n",
    "        ).add_to(map)\n",
    "\n",
    "    return map\n",
    "\n",
    "def crop_image(img):\n",
    "    width, height = img.size\n",
    "\n",
    "    # Setting the points for cropped image\n",
    "    left =  400\n",
    "    top = 40\n",
    "    right = width - 400\n",
    "    bottom = height - 80\n",
    "\n",
    "    return img.crop((left, top, right, bottom))"
   ],
   "outputs": [],
   "execution_count": null
  },
  {
   "metadata": {},
   "cell_type": "code",
   "source": [
    "os.makedirs(\"Figures and Tables/clustering/\", exist_ok=True)\n",
    "\n",
    "map = create_map(ohg_1024_geojson)\n",
    "img_data = map._to_png(5)\n",
    "img = Image.open(io.BytesIO(img_data))\n",
    "img = crop_image(img)\n",
    "img.save('Figures and Tables/clustering/ohg_1024_geojson.png', dpi=(300, 300))\n",
    "\n",
    "map = create_map(haversine_geojson)\n",
    "img_data = map._to_png(5)\n",
    "img = Image.open(io.BytesIO(img_data))\n",
    "img = crop_image(img)\n",
    "img.save('Figures and Tables/clustering/haversine_geojson.png', dpi=(300, 300))\n",
    "\n",
    "map = create_map(osrm_geojson)\n",
    "img_data = map._to_png(5)\n",
    "img = Image.open(io.BytesIO(img_data))\n",
    "img = crop_image(img)\n",
    "img.save('Figures and Tables/clustering/osrm_geojson.png', dpi=(300, 300))\n",
    "\n",
    "map = create_map(wg_circuity_geojson)\n",
    "img_data = map._to_png(5)\n",
    "img = Image.open(io.BytesIO(img_data))\n",
    "img = crop_image(img)\n",
    "img.save('Figures and Tables/clustering/wg_circuity_geojson.png', dpi=(300, 300))"
   ],
   "id": "dc75f02e7dd9009a",
   "outputs": [],
   "execution_count": null
  }
 ],
 "metadata": {
  "kernelspec": {
   "display_name": "Python 3 (ipykernel)",
   "language": "python",
   "name": "python3"
  },
  "language_info": {
   "codemirror_mode": {
    "name": "ipython",
    "version": 3
   },
   "file_extension": ".py",
   "mimetype": "text/x-python",
   "name": "python",
   "nbconvert_exporter": "python",
   "pygments_lexer": "ipython3",
   "version": "3.11.10"
  }
 },
 "nbformat": 4,
 "nbformat_minor": 5
}
